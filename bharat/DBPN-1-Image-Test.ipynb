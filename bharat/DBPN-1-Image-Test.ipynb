{
 "cells": [
  {
   "cell_type": "markdown",
   "metadata": {},
   "source": [
    "# Testing SuperResolution of 1 Image Using DBPN\n",
    "DBPN - Deep Back-Projection Network"
   ]
  },
  {
   "cell_type": "code",
   "execution_count": 1,
   "metadata": {},
   "outputs": [],
   "source": [
    "# Imports\n",
    "import os\n",
    "import torch\n",
    "import torch.nn as nn\n",
    "from torch.autograd import Variable\n",
    "import torchvision\n",
    "import torchvision.transforms as transforms\n",
    "from dbpn import Net as DBPN\n",
    "import numpy as np\n",
    "import matplotlib.pyplot as plt"
   ]
  },
  {
   "cell_type": "markdown",
   "metadata": {},
   "source": [
    "## Setting Parameters"
   ]
  },
  {
   "cell_type": "code",
   "execution_count": 2,
   "metadata": {},
   "outputs": [
    {
     "name": "stdout",
     "output_type": "stream",
     "text": [
      "/datasets/home/46/646/bkambalu/project/models/DBPN_x2.pth\n"
     ]
    }
   ],
   "source": [
    "upscale_factor = 2 # Can be 2, 4 or 8\n",
    "\n",
    "model_path = os.path.join(os.path.expanduser('~'), 'project', 'models', 'DBPN_x{}.pth'.format(upscale_factor))\n",
    "print(model_path)\n",
    "\n",
    "cuda = True # Set True if you're using GPU\n",
    "gpus=2\n",
    "\n",
    "seed = 123"
   ]
  },
  {
   "cell_type": "markdown",
   "metadata": {},
   "source": [
    "### Check if Graphic Cards are detected"
   ]
  },
  {
   "cell_type": "code",
   "execution_count": 3,
   "metadata": {},
   "outputs": [],
   "source": [
    "if cuda and not torch.cuda.is_available():\n",
    "    raise Exception(\"No GPU found, please run without --cuda\")\n",
    "gpus_list=range(gpus)"
   ]
  },
  {
   "cell_type": "code",
   "execution_count": 4,
   "metadata": {},
   "outputs": [],
   "source": [
    "if cuda:\n",
    "    torch.cuda.manual_seed(seed)"
   ]
  },
  {
   "cell_type": "markdown",
   "metadata": {},
   "source": [
    "## Build the DBPN Model\n",
    "Note: The comments in the original code suggests that this model is actually D-DBPN (Dense-DBPN)"
   ]
  },
  {
   "cell_type": "code",
   "execution_count": 5,
   "metadata": {},
   "outputs": [
    {
     "name": "stdout",
     "output_type": "stream",
     "text": [
      "===> Building model\n"
     ]
    }
   ],
   "source": [
    "print('===> Building model')\n",
    "model = DBPN(num_channels=3, base_filter=64,  feat = 256, num_stages=7, scale_factor=upscale_factor) ###D-DBPN"
   ]
  },
  {
   "cell_type": "code",
   "execution_count": 6,
   "metadata": {},
   "outputs": [],
   "source": [
    "if cuda:\n",
    "    model = torch.nn.DataParallel(model, device_ids=gpus_list)"
   ]
  },
  {
   "cell_type": "markdown",
   "metadata": {},
   "source": [
    "## Load the Model Parameters from Pretrained Model"
   ]
  },
  {
   "cell_type": "code",
   "execution_count": 7,
   "metadata": {},
   "outputs": [
    {
     "name": "stdout",
     "output_type": "stream",
     "text": [
      "Pre-trained SR model is loaded.\n"
     ]
    }
   ],
   "source": [
    "if os.path.exists(model_path):\n",
    "    model.load_state_dict(torch.load(model_path, map_location=lambda storage, loc: storage))\n",
    "    print('Pre-trained SR model is loaded.')"
   ]
  },
  {
   "cell_type": "code",
   "execution_count": 8,
   "metadata": {},
   "outputs": [
    {
     "data": {
      "text/plain": [
       "DataParallel(\n",
       "  (module): Net(\n",
       "    (feat0): ConvBlock(\n",
       "      (conv): Conv2d(3, 256, kernel_size=(3, 3), stride=(1, 1), padding=(1, 1))\n",
       "      (act): PReLU(num_parameters=1)\n",
       "    )\n",
       "    (feat1): ConvBlock(\n",
       "      (conv): Conv2d(256, 64, kernel_size=(1, 1), stride=(1, 1))\n",
       "      (act): PReLU(num_parameters=1)\n",
       "    )\n",
       "    (up1): UpBlock(\n",
       "      (up_conv1): DeconvBlock(\n",
       "        (deconv): ConvTranspose2d(64, 64, kernel_size=(6, 6), stride=(2, 2), padding=(2, 2))\n",
       "        (act): PReLU(num_parameters=1)\n",
       "      )\n",
       "      (up_conv2): ConvBlock(\n",
       "        (conv): Conv2d(64, 64, kernel_size=(6, 6), stride=(2, 2), padding=(2, 2))\n",
       "        (act): PReLU(num_parameters=1)\n",
       "      )\n",
       "      (up_conv3): DeconvBlock(\n",
       "        (deconv): ConvTranspose2d(64, 64, kernel_size=(6, 6), stride=(2, 2), padding=(2, 2))\n",
       "        (act): PReLU(num_parameters=1)\n",
       "      )\n",
       "    )\n",
       "    (down1): DownBlock(\n",
       "      (down_conv1): ConvBlock(\n",
       "        (conv): Conv2d(64, 64, kernel_size=(6, 6), stride=(2, 2), padding=(2, 2))\n",
       "        (act): PReLU(num_parameters=1)\n",
       "      )\n",
       "      (down_conv2): DeconvBlock(\n",
       "        (deconv): ConvTranspose2d(64, 64, kernel_size=(6, 6), stride=(2, 2), padding=(2, 2))\n",
       "        (act): PReLU(num_parameters=1)\n",
       "      )\n",
       "      (down_conv3): ConvBlock(\n",
       "        (conv): Conv2d(64, 64, kernel_size=(6, 6), stride=(2, 2), padding=(2, 2))\n",
       "        (act): PReLU(num_parameters=1)\n",
       "      )\n",
       "    )\n",
       "    (up2): UpBlock(\n",
       "      (up_conv1): DeconvBlock(\n",
       "        (deconv): ConvTranspose2d(64, 64, kernel_size=(6, 6), stride=(2, 2), padding=(2, 2))\n",
       "        (act): PReLU(num_parameters=1)\n",
       "      )\n",
       "      (up_conv2): ConvBlock(\n",
       "        (conv): Conv2d(64, 64, kernel_size=(6, 6), stride=(2, 2), padding=(2, 2))\n",
       "        (act): PReLU(num_parameters=1)\n",
       "      )\n",
       "      (up_conv3): DeconvBlock(\n",
       "        (deconv): ConvTranspose2d(64, 64, kernel_size=(6, 6), stride=(2, 2), padding=(2, 2))\n",
       "        (act): PReLU(num_parameters=1)\n",
       "      )\n",
       "    )\n",
       "    (down2): D_DownBlock(\n",
       "      (conv): ConvBlock(\n",
       "        (conv): Conv2d(128, 64, kernel_size=(1, 1), stride=(1, 1))\n",
       "        (act): PReLU(num_parameters=1)\n",
       "      )\n",
       "      (down_conv1): ConvBlock(\n",
       "        (conv): Conv2d(64, 64, kernel_size=(6, 6), stride=(2, 2), padding=(2, 2))\n",
       "        (act): PReLU(num_parameters=1)\n",
       "      )\n",
       "      (down_conv2): DeconvBlock(\n",
       "        (deconv): ConvTranspose2d(64, 64, kernel_size=(6, 6), stride=(2, 2), padding=(2, 2))\n",
       "        (act): PReLU(num_parameters=1)\n",
       "      )\n",
       "      (down_conv3): ConvBlock(\n",
       "        (conv): Conv2d(64, 64, kernel_size=(6, 6), stride=(2, 2), padding=(2, 2))\n",
       "        (act): PReLU(num_parameters=1)\n",
       "      )\n",
       "    )\n",
       "    (up3): D_UpBlock(\n",
       "      (conv): ConvBlock(\n",
       "        (conv): Conv2d(128, 64, kernel_size=(1, 1), stride=(1, 1))\n",
       "        (act): PReLU(num_parameters=1)\n",
       "      )\n",
       "      (up_conv1): DeconvBlock(\n",
       "        (deconv): ConvTranspose2d(64, 64, kernel_size=(6, 6), stride=(2, 2), padding=(2, 2))\n",
       "        (act): PReLU(num_parameters=1)\n",
       "      )\n",
       "      (up_conv2): ConvBlock(\n",
       "        (conv): Conv2d(64, 64, kernel_size=(6, 6), stride=(2, 2), padding=(2, 2))\n",
       "        (act): PReLU(num_parameters=1)\n",
       "      )\n",
       "      (up_conv3): DeconvBlock(\n",
       "        (deconv): ConvTranspose2d(64, 64, kernel_size=(6, 6), stride=(2, 2), padding=(2, 2))\n",
       "        (act): PReLU(num_parameters=1)\n",
       "      )\n",
       "    )\n",
       "    (down3): D_DownBlock(\n",
       "      (conv): ConvBlock(\n",
       "        (conv): Conv2d(192, 64, kernel_size=(1, 1), stride=(1, 1))\n",
       "        (act): PReLU(num_parameters=1)\n",
       "      )\n",
       "      (down_conv1): ConvBlock(\n",
       "        (conv): Conv2d(64, 64, kernel_size=(6, 6), stride=(2, 2), padding=(2, 2))\n",
       "        (act): PReLU(num_parameters=1)\n",
       "      )\n",
       "      (down_conv2): DeconvBlock(\n",
       "        (deconv): ConvTranspose2d(64, 64, kernel_size=(6, 6), stride=(2, 2), padding=(2, 2))\n",
       "        (act): PReLU(num_parameters=1)\n",
       "      )\n",
       "      (down_conv3): ConvBlock(\n",
       "        (conv): Conv2d(64, 64, kernel_size=(6, 6), stride=(2, 2), padding=(2, 2))\n",
       "        (act): PReLU(num_parameters=1)\n",
       "      )\n",
       "    )\n",
       "    (up4): D_UpBlock(\n",
       "      (conv): ConvBlock(\n",
       "        (conv): Conv2d(192, 64, kernel_size=(1, 1), stride=(1, 1))\n",
       "        (act): PReLU(num_parameters=1)\n",
       "      )\n",
       "      (up_conv1): DeconvBlock(\n",
       "        (deconv): ConvTranspose2d(64, 64, kernel_size=(6, 6), stride=(2, 2), padding=(2, 2))\n",
       "        (act): PReLU(num_parameters=1)\n",
       "      )\n",
       "      (up_conv2): ConvBlock(\n",
       "        (conv): Conv2d(64, 64, kernel_size=(6, 6), stride=(2, 2), padding=(2, 2))\n",
       "        (act): PReLU(num_parameters=1)\n",
       "      )\n",
       "      (up_conv3): DeconvBlock(\n",
       "        (deconv): ConvTranspose2d(64, 64, kernel_size=(6, 6), stride=(2, 2), padding=(2, 2))\n",
       "        (act): PReLU(num_parameters=1)\n",
       "      )\n",
       "    )\n",
       "    (down4): D_DownBlock(\n",
       "      (conv): ConvBlock(\n",
       "        (conv): Conv2d(256, 64, kernel_size=(1, 1), stride=(1, 1))\n",
       "        (act): PReLU(num_parameters=1)\n",
       "      )\n",
       "      (down_conv1): ConvBlock(\n",
       "        (conv): Conv2d(64, 64, kernel_size=(6, 6), stride=(2, 2), padding=(2, 2))\n",
       "        (act): PReLU(num_parameters=1)\n",
       "      )\n",
       "      (down_conv2): DeconvBlock(\n",
       "        (deconv): ConvTranspose2d(64, 64, kernel_size=(6, 6), stride=(2, 2), padding=(2, 2))\n",
       "        (act): PReLU(num_parameters=1)\n",
       "      )\n",
       "      (down_conv3): ConvBlock(\n",
       "        (conv): Conv2d(64, 64, kernel_size=(6, 6), stride=(2, 2), padding=(2, 2))\n",
       "        (act): PReLU(num_parameters=1)\n",
       "      )\n",
       "    )\n",
       "    (up5): D_UpBlock(\n",
       "      (conv): ConvBlock(\n",
       "        (conv): Conv2d(256, 64, kernel_size=(1, 1), stride=(1, 1))\n",
       "        (act): PReLU(num_parameters=1)\n",
       "      )\n",
       "      (up_conv1): DeconvBlock(\n",
       "        (deconv): ConvTranspose2d(64, 64, kernel_size=(6, 6), stride=(2, 2), padding=(2, 2))\n",
       "        (act): PReLU(num_parameters=1)\n",
       "      )\n",
       "      (up_conv2): ConvBlock(\n",
       "        (conv): Conv2d(64, 64, kernel_size=(6, 6), stride=(2, 2), padding=(2, 2))\n",
       "        (act): PReLU(num_parameters=1)\n",
       "      )\n",
       "      (up_conv3): DeconvBlock(\n",
       "        (deconv): ConvTranspose2d(64, 64, kernel_size=(6, 6), stride=(2, 2), padding=(2, 2))\n",
       "        (act): PReLU(num_parameters=1)\n",
       "      )\n",
       "    )\n",
       "    (down5): D_DownBlock(\n",
       "      (conv): ConvBlock(\n",
       "        (conv): Conv2d(320, 64, kernel_size=(1, 1), stride=(1, 1))\n",
       "        (act): PReLU(num_parameters=1)\n",
       "      )\n",
       "      (down_conv1): ConvBlock(\n",
       "        (conv): Conv2d(64, 64, kernel_size=(6, 6), stride=(2, 2), padding=(2, 2))\n",
       "        (act): PReLU(num_parameters=1)\n",
       "      )\n",
       "      (down_conv2): DeconvBlock(\n",
       "        (deconv): ConvTranspose2d(64, 64, kernel_size=(6, 6), stride=(2, 2), padding=(2, 2))\n",
       "        (act): PReLU(num_parameters=1)\n",
       "      )\n",
       "      (down_conv3): ConvBlock(\n",
       "        (conv): Conv2d(64, 64, kernel_size=(6, 6), stride=(2, 2), padding=(2, 2))\n",
       "        (act): PReLU(num_parameters=1)\n",
       "      )\n",
       "    )\n",
       "    (up6): D_UpBlock(\n",
       "      (conv): ConvBlock(\n",
       "        (conv): Conv2d(320, 64, kernel_size=(1, 1), stride=(1, 1))\n",
       "        (act): PReLU(num_parameters=1)\n",
       "      )\n",
       "      (up_conv1): DeconvBlock(\n",
       "        (deconv): ConvTranspose2d(64, 64, kernel_size=(6, 6), stride=(2, 2), padding=(2, 2))\n",
       "        (act): PReLU(num_parameters=1)\n",
       "      )\n",
       "      (up_conv2): ConvBlock(\n",
       "        (conv): Conv2d(64, 64, kernel_size=(6, 6), stride=(2, 2), padding=(2, 2))\n",
       "        (act): PReLU(num_parameters=1)\n",
       "      )\n",
       "      (up_conv3): DeconvBlock(\n",
       "        (deconv): ConvTranspose2d(64, 64, kernel_size=(6, 6), stride=(2, 2), padding=(2, 2))\n",
       "        (act): PReLU(num_parameters=1)\n",
       "      )\n",
       "    )\n",
       "    (down6): D_DownBlock(\n",
       "      (conv): ConvBlock(\n",
       "        (conv): Conv2d(384, 64, kernel_size=(1, 1), stride=(1, 1))\n",
       "        (act): PReLU(num_parameters=1)\n",
       "      )\n",
       "      (down_conv1): ConvBlock(\n",
       "        (conv): Conv2d(64, 64, kernel_size=(6, 6), stride=(2, 2), padding=(2, 2))\n",
       "        (act): PReLU(num_parameters=1)\n",
       "      )\n",
       "      (down_conv2): DeconvBlock(\n",
       "        (deconv): ConvTranspose2d(64, 64, kernel_size=(6, 6), stride=(2, 2), padding=(2, 2))\n",
       "        (act): PReLU(num_parameters=1)\n",
       "      )\n",
       "      (down_conv3): ConvBlock(\n",
       "        (conv): Conv2d(64, 64, kernel_size=(6, 6), stride=(2, 2), padding=(2, 2))\n",
       "        (act): PReLU(num_parameters=1)\n",
       "      )\n",
       "    )\n",
       "    (up7): D_UpBlock(\n",
       "      (conv): ConvBlock(\n",
       "        (conv): Conv2d(384, 64, kernel_size=(1, 1), stride=(1, 1))\n",
       "        (act): PReLU(num_parameters=1)\n",
       "      )\n",
       "      (up_conv1): DeconvBlock(\n",
       "        (deconv): ConvTranspose2d(64, 64, kernel_size=(6, 6), stride=(2, 2), padding=(2, 2))\n",
       "        (act): PReLU(num_parameters=1)\n",
       "      )\n",
       "      (up_conv2): ConvBlock(\n",
       "        (conv): Conv2d(64, 64, kernel_size=(6, 6), stride=(2, 2), padding=(2, 2))\n",
       "        (act): PReLU(num_parameters=1)\n",
       "      )\n",
       "      (up_conv3): DeconvBlock(\n",
       "        (deconv): ConvTranspose2d(64, 64, kernel_size=(6, 6), stride=(2, 2), padding=(2, 2))\n",
       "        (act): PReLU(num_parameters=1)\n",
       "      )\n",
       "    )\n",
       "    (output_conv): ConvBlock(\n",
       "      (conv): Conv2d(448, 3, kernel_size=(3, 3), stride=(1, 1), padding=(1, 1))\n",
       "    )\n",
       "  )\n",
       ")"
      ]
     },
     "execution_count": 8,
     "metadata": {},
     "output_type": "execute_result"
    }
   ],
   "source": [
    "if cuda:\n",
    "    model = model.cuda(gpus_list[0])\n",
    "model.eval()"
   ]
  },
  {
   "cell_type": "markdown",
   "metadata": {},
   "source": [
    "## Load the Image"
   ]
  },
  {
   "cell_type": "code",
   "execution_count": 9,
   "metadata": {},
   "outputs": [],
   "source": [
    "transform = transforms.Compose([\n",
    "    transforms.ToTensor()\n",
    "    #transforms.Normalize((0.5, 0.5, 0.5), (0.5, 0.5, 0.5))\n",
    "])\n",
    "\n",
    "trainset = torchvision.datasets.CIFAR100(root='/datasets/ee285s-public/', train=True,\n",
    "                                        download=False, transform=transform)\n",
    "trainloader = torch.utils.data.DataLoader(trainset, batch_size=1,\n",
    "                                          shuffle=False, num_workers=1)\n",
    "#print(len(trainloader[0]))\n",
    "#for batch in trainloader:\n",
    "dataiter = iter(trainloader)\n",
    " #   inp, name = Variable(batch[0],volatile=True), batch[1]\n",
    "  #  print(type(inp),len(name))\n",
    "image_t, label = dataiter.next()\n",
    "image_t, label = dataiter.next()"
   ]
  },
  {
   "cell_type": "markdown",
   "metadata": {},
   "source": [
    "### Define a Function to View any Image (in the form of a `Tensor`)"
   ]
  },
  {
   "cell_type": "code",
   "execution_count": 10,
   "metadata": {},
   "outputs": [],
   "source": [
    "def imshow(img): # img is a PyTorch Tensor\n",
    "    #img = img / 2 + 0.5     # unnormalize\n",
    "    \n",
    "    # Convert from Torch Tensor to numpy array\n",
    "    # Squeeze removes the first dimension, which is batch size. Here, it is always 1\n",
    "    npimg = img.numpy().squeeze()\n",
    "    \n",
    "    plt.imshow(np.transpose(npimg, (1, 2, 0))) # Transpose is to convert from BGR to RGB"
   ]
  },
  {
   "cell_type": "code",
   "execution_count": 11,
   "metadata": {},
   "outputs": [
    {
     "data": {
      "image/png": "[encoded data removed]",
      "text/plain": [
       "<Figure size 432x288 with 1 Axes>"
      ]
     },
     "metadata": {},
     "output_type": "display_data"
    }
   ],
   "source": [
    "imshow(image_t)"
   ]
  },
  {
   "cell_type": "code",
   "execution_count": 12,
   "metadata": {},
   "outputs": [],
   "source": [
    "inp = Variable(image_t, volatile=True)\n",
    "if cuda:\n",
    "    inp = inp.cuda(gpus_list[0])\n",
    "prediction = model(inp)"
   ]
  },
  {
   "cell_type": "code",
   "execution_count": 13,
   "metadata": {},
   "outputs": [],
   "source": [
    "out = prediction.cpu().data"
   ]
  },
  {
   "cell_type": "code",
   "execution_count": 14,
   "metadata": {},
   "outputs": [
    {
     "data": {
      "image/png": "[encoded data removed]",
      "text/plain": [
       "<Figure size 432x288 with 1 Axes>"
      ]
     },
     "metadata": {},
     "output_type": "display_data"
    }
   ],
   "source": [
    "imshow(out)"
   ]
  },
  {
   "cell_type": "code",
   "execution_count": 15,
   "metadata": {},
   "outputs": [],
   "source": [
    "def x8_forward(img, model, precision='single'):\n",
    "    def _transform(v, op):\n",
    "        if precision != 'single': v = v.float()\n",
    "\n",
    "        v2np = v.data.cpu().numpy()\n",
    "        if op == 'vflip':\n",
    "            tfnp = v2np[:, :, :, ::-1].copy()\n",
    "        elif op == 'hflip':\n",
    "            tfnp = v2np[:, :, ::-1, :].copy()\n",
    "        elif op == 'transpose':\n",
    "            tfnp = v2np.transpose((0, 1, 3, 2)).copy()\n",
    "        \n",
    "        ret = torch.Tensor(tfnp).cuda()\n",
    "\n",
    "        if precision == 'half':\n",
    "            ret = ret.half()\n",
    "        elif precision == 'double':\n",
    "            ret = ret.double()\n",
    "\n",
    "        return Variable(ret, volatile=v.volatile)\n",
    "\n",
    "    inputlist = [img]\n",
    "    for tf in 'vflip', 'hflip', 'transpose':\n",
    "        inputlist.extend([_transform(t, tf) for t in inputlist])\n",
    "\n",
    "    outputlist = [model(aug) for aug in inputlist]\n",
    "    for i in range(len(outputlist)):\n",
    "        if i > 3:\n",
    "            outputlist[i] = _transform(outputlist[i], 'transpose')\n",
    "        if i % 4 > 1:\n",
    "            outputlist[i] = _transform(outputlist[i], 'hflip')\n",
    "        if (i % 4) % 2 == 1:\n",
    "            outputlist[i] = _transform(outputlist[i], 'vflip')\n",
    "    \n",
    "    output = reduce((lambda x, y: x + y), outputlist) / len(outputlist)\n",
    "\n",
    "    return output"
   ]
  },
  {
   "cell_type": "code",
   "execution_count": 16,
   "metadata": {},
   "outputs": [
    {
     "data": {
      "image/png": "[encoded data removed]",
      "text/plain": [
       "<Figure size 432x288 with 1 Axes>"
      ]
     },
     "metadata": {},
     "output_type": "display_data"
    }
   ],
   "source": [
    "prediction_x8 = x8_forward(inp, model)\n",
    "out_x8 = prediction_x8.cpu().data\n",
    "imshow(out_x8)"
   ]
  },
  {
   "cell_type": "code",
   "execution_count": 17,
   "metadata": {},
   "outputs": [
    {
     "data": {
      "text/plain": [
       "\n",
       "(0 ,0 ,.,.) = \n",
       "   0   0   0  ...    0   0   0\n",
       "   0   0   0  ...    0   0   0\n",
       "   0   0   0  ...    0   0   0\n",
       "     ...       ⋱       ...    \n",
       "   0   0   0  ...    0   0   0\n",
       "   0   0   0  ...    0   0   0\n",
       "   0   0   0  ...    0   0   0\n",
       "\n",
       "(0 ,1 ,.,.) = \n",
       "   0   0   0  ...    0   0   0\n",
       "   0   0   0  ...    0   0   0\n",
       "   0   0   0  ...    0   0   0\n",
       "     ...       ⋱       ...    \n",
       "   0   0   0  ...    0   0   0\n",
       "   0   0   0  ...    0   0   0\n",
       "   0   0   0  ...    0   0   0\n",
       "\n",
       "(0 ,2 ,.,.) = \n",
       "   0   0   0  ...    0   0   0\n",
       "   0   0   0  ...    0   0   0\n",
       "   0   0   0  ...    0   0   0\n",
       "     ...       ⋱       ...    \n",
       "   0   0   0  ...    0   0   0\n",
       "   0   0   0  ...    0   0   0\n",
       "   0   0   0  ...    0   0   0\n",
       "[torch.ByteTensor of size 1x3x64x64]"
      ]
     },
     "execution_count": 17,
     "metadata": {},
     "output_type": "execute_result"
    }
   ],
   "source": [
    "out== out_x8"
   ]
  },
  {
   "cell_type": "code",
   "execution_count": 18,
   "metadata": {},
   "outputs": [
    {
     "data": {
      "text/plain": [
       "1.0001622438430786"
      ]
     },
     "execution_count": 18,
     "metadata": {},
     "output_type": "execute_result"
    }
   ],
   "source": [
    "out[0][0][0][0]"
   ]
  },
  {
   "cell_type": "code",
   "execution_count": 19,
   "metadata": {},
   "outputs": [
    {
     "data": {
      "text/plain": [
       "1.0000157356262207"
      ]
     },
     "execution_count": 19,
     "metadata": {},
     "output_type": "execute_result"
    }
   ],
   "source": [
    "out_x8[0][0][0][0]"
   ]
  },
  {
   "cell_type": "code",
   "execution_count": null,
   "metadata": {},
   "outputs": [],
   "source": []
  }
 ],
 "metadata": {
  "kernelspec": {
   "display_name": "Python 2",
   "language": "python",
   "name": "python2"
  },
  "language_info": {
   "codemirror_mode": {
    "name": "ipython",
    "version": 2
   },
   "file_extension": ".py",
   "mimetype": "text/x-python",
   "name": "python",
   "nbconvert_exporter": "python",
   "pygments_lexer": "ipython2",
   "version": "2.7.14"
  }
 },
 "nbformat": 4,
 "nbformat_minor": 2
}
