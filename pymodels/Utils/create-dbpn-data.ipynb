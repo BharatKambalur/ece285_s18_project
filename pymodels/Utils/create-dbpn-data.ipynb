{
 "cells": [
  {
   "cell_type": "code",
   "execution_count": 2,
   "metadata": {},
   "outputs": [],
   "source": [
    "# Imports\n",
    "import os\n",
    "import torch\n",
    "import torch.nn as nn\n",
    "from torch.autograd import Variable\n",
    "import torchvision\n",
    "from torch.utils.data import Dataset, DataLoader\n",
    "from torchvision import utils, transforms\n",
    "from dbpn import Net as DBPN\n",
    "import numpy as np\n",
    "import matplotlib\n",
    "import matplotlib.pyplot as plt\n",
    "from PIL import Image\n",
    "import warnings\n",
    "\n",
    "\n",
    "current_dir = os.getcwd()\n",
    "\n",
    "if mode == 'x2':\n",
    "    model_file = '../models/DBPN_x2.pth'\n",
    "    upscale_factor = 2\n",
    "    train_folder = 'X2CIFAR100'\n",
    "    test_folder = 'X2CIFAR100_t'\n",
    "elif mode == 'x4':\n",
    "    model_file = '../models/DBPN_x4.pth'\n",
    "    upscale_factor = 4\n",
    "    train_folder = 'X4CIFAR100'\n",
    "    test_folder = 'X4CIFAR100_t'\n",
    "    \n",
    "    \n",
    "    \n",
    "model_path = os.path.join(current_dir,model_folder)\n",
    "cuda = True # Set True if you're using GPU\n",
    "gpus = 2\n",
    "gpus_list=range(gpus)\n",
    "\n",
    "seed = 123\n",
    "\n",
    "if cuda and not torch.cuda.is_available():\n",
    "    raise Exception(\"No GPU found, please run without --cuda\")\n",
    "    \n",
    "if cuda:\n",
    "    torch.cuda.manual_seed(seed)\n",
    "    \n",
    "print('===> Building model')\n",
    "model = DBPN(num_channels=3, base_filter=64,  feat = 256, num_stages=7, scale_factor=upscale_factor) ###D-DBPN\n",
    "if cuda:\n",
    "#     model = torch.nn.DataParallel(model, device_ids=gpus_list)\n",
    "    model = model.cuda()\n",
    "print('Model built')\n",
    "\n",
    "if os.path.exists(model_path):\n",
    "    dbpn_model = torch.load(model_path, map_location=lambda storage, loc: storage)\n",
    "    own_state = model.state_dict()\n",
    "    dbpn_list = list(dbpn_model)\n",
    "    own_list = list(own_state)\n",
    "    for i in range(len(dbpn_list)):\n",
    "        if dbpn_list[i][7:] != own_list[i]:\n",
    "            print('error')\n",
    "            print(dbpn_list[i], own_list[i])\n",
    "        \n",
    "\n",
    "    for name, param in dbpn_model.items():\n",
    "        name = name[7:]\n",
    "        own_state[name].copy_(param)\n",
    "    print('Pre-trained SR model is loaded.')\n",
    "else:\n",
    "    print('Directory path does not exist')\n",
    "    \n",
    "transform = transforms.Compose([\n",
    "    transforms.ToTensor()\n",
    "    #transforms.Normalize((0.5, 0.5, 0.5), (0.5, 0.5, 0.5))\n",
    "])\n",
    "\n",
    "testset = torchvision.datasets.CIFAR100(root='/datasets/ee285s-public/', train=False, download=False, transform=transform)\n",
    "testloader = DataLoader(testset, batch_size=1, shuffle=False, num_workers=1)\n",
    "test_iter = iter(testloader)\n",
    "\n",
    "trainset = torchvision.datasets.CIFAR100(root='/datasets/ee285s-public/', train=True, download=False, transform=transform)\n",
    "trainloader = DataLoader(trainset, batch_size=1, shuffle=False, num_workers=1)\n",
    "train_iter = iter(trainloader)\n",
    "\n"
   ]
  },
  {
   "cell_type": "code",
   "execution_count": 3,
   "metadata": {},
   "outputs": [],
   "source": [
    "warnings.filterwarnings(\"ignore\")\n",
    "\n",
    "\n",
    "img_labels = []\n",
    "for i in range(len(trainloader)):\n",
    "    data = train_iter.next()\n",
    "    images, labels = data\n",
    "    inp = Variable(images, requires_grad = False)\n",
    "    output = model(inp.cuda()).cpu().data\n",
    "    \n",
    "    npimg = np.array(output).squeeze()\n",
    "    nplbl = np.array(labels).squeeze()\n",
    "    \n",
    "    img_labels.append(nplbl)\n",
    "    im_path = os.path.join(current_dir, train_folder, str(i)+'.npy')\n",
    "    np.save(im_path, npimg)\n",
    "    \n",
    "label_path = os.path.join(current_dir, train_folder, 'labels.npy')\n",
    "np.save(label_path,np.array(img_labels))\n",
    "\n",
    "\n",
    "img_labels = []\n",
    "for i in range(len(testloader)):\n",
    "    data = test_iter.next()\n",
    "    images, labels = data\n",
    "    inp = Variable(images, requires_grad = False)\n",
    "    output = model(inp.cuda()).cpu().data\n",
    "    \n",
    "    npimg = np.array(output).squeeze()\n",
    "    nplbl = np.array(labels).squeeze()\n",
    "    \n",
    "    img_labels.append(nplbl)\n",
    "    im_path = os.path.join(current_dir, test_folder, str(i)+'.npy')\n",
    "    np.save(im_path, npimg)\n",
    "    \n",
    "label_path = os.path.join(current_dir, test_folder, 'labels.npy')\n",
    "np.save(label_path,np.array(img_labels))"
   ]
  },
  {
   "cell_type": "code",
   "execution_count": 11,
   "metadata": {},
   "outputs": [
    {
     "name": "stderr",
     "output_type": "stream",
     "text": [
      "Clipping input data to the valid range for imshow with RGB data ([0..1] for floats or [0..255] for integers).\n"
     ]
    },
    {
     "name": "stdout",
     "output_type": "stream",
     "text": [
      "(50000,)\n",
      "(3, 64, 64)\n"
     ]
    },
    {
     "data": {
      "text/plain": [
       "<matplotlib.image.AxesImage at 0x7f09fc03d470>"
      ]
     },
     "execution_count": 11,
     "metadata": {},
     "output_type": "execute_result"
    },
    {
     "data": {
      "image/png": "[encoded data removed]",
      "text/plain": [
       "<Figure size 432x288 with 1 Axes>"
      ]
     },
     "metadata": {},
     "output_type": "display_data"
    }
   ],
   "source": [
    "label_path = os.path.join(current_dir, train_folder, 'labels.npy')\n",
    "labels = np.load(label_path)\n",
    "print(labels.shape)\n",
    "img_path = os.path.join(current_dir, train_folder, '0.npy')\n",
    "img = np.load(img_path)\n",
    "print(img.shape)\n",
    "plt.figure()\n",
    "plt.imshow(np.transpose(img, (1, 2, 0))) # Transpose is to convert from BGR to RGB\n",
    "plt.show()"
   ]
  }
 ],
 "metadata": {
  "kernelspec": {
   "display_name": "Python 3",
   "language": "python",
   "name": "python3"
  },
  "language_info": {
   "codemirror_mode": {
    "name": "ipython",
    "version": 3
   },
   "file_extension": ".py",
   "mimetype": "text/x-python",
   "name": "python",
   "nbconvert_exporter": "python",
   "pygments_lexer": "ipython3",
   "version": "3.6.4"
  }
 },
 "nbformat": 4,
 "nbformat_minor": 2
}
