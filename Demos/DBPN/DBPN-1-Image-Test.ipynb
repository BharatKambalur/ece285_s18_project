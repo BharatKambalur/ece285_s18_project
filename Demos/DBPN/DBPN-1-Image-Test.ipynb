{
 "cells": [
  {
   "cell_type": "markdown",
   "metadata": {},
   "source": [
    "# Testing SuperResolution of 1 Image Using DBPN\n",
    "DBPN - Deep Back-Projection Network"
   ]
  },
  {
   "cell_type": "code",
   "execution_count": 1,
   "metadata": {},
   "outputs": [],
   "source": [
    "# Imports\n",
    "import os\n",
    "import sys\n",
    "import numpy as np\n",
    "import matplotlib.pyplot as plt\n",
    "import torch\n",
    "import torch.nn as nn\n",
    "from torch.autograd import Variable\n",
    "import torchvision\n",
    "import torchvision.transforms as transforms\n",
    "\n",
    "sys.path.append(\"../..\") # Note, this line is needed only since this notebook is being run from inside 'bharat' directory\n",
    "                      # If you run this notebook in the same folder as the the 'models-py-code' directory, remove this line\n",
    "from pymodels.dbpn import DBPN_Net as DBPN"
   ]
  },
  {
   "cell_type": "markdown",
   "metadata": {},
   "source": [
    "## Setting Parameters"
   ]
  },
  {
   "cell_type": "code",
   "execution_count": 2,
   "metadata": {},
   "outputs": [
    {
     "name": "stdout",
     "output_type": "stream",
     "text": [
      "/datasets/home/46/646/bkambalu/project/models/DBPN_x8.pth\n"
     ]
    }
   ],
   "source": [
    "upscale_factor = 8 # Can be 2, 4 or 8\n",
    "\n",
    "model_path = os.path.join(os.path.realpath(os.path.join(os.getcwd(), os.path.pardir, os.path.pardir)), 'models', 'DBPN_x{}.pth'.format(upscale_factor))\n",
    "print(model_path)\n",
    "\n",
    "cuda = True # Set True if you're using GPU\n",
    "gpus=2\n",
    "\n",
    "seed = 123"
   ]
  },
  {
   "cell_type": "markdown",
   "metadata": {},
   "source": [
    "### Check if Graphic Cards are detected"
   ]
  },
  {
   "cell_type": "code",
   "execution_count": 3,
   "metadata": {},
   "outputs": [],
   "source": [
    "if cuda and not torch.cuda.is_available():\n",
    "    raise Exception(\"No GPU found, please run without --cuda\")\n",
    "gpus_list=range(gpus)"
   ]
  },
  {
   "cell_type": "code",
   "execution_count": 4,
   "metadata": {},
   "outputs": [],
   "source": [
    "if cuda:\n",
    "    torch.cuda.manual_seed(seed)"
   ]
  },
  {
   "cell_type": "markdown",
   "metadata": {},
   "source": [
    "## Build the DBPN Model\n",
    "Note: The comments in the original code suggests that this model is actually D-DBPN (Dense-DBPN)"
   ]
  },
  {
   "cell_type": "code",
   "execution_count": 5,
   "metadata": {},
   "outputs": [
    {
     "name": "stdout",
     "output_type": "stream",
     "text": [
      "===> Building model\n"
     ]
    }
   ],
   "source": [
    "print('===> Building model')\n",
    "model = DBPN(num_channels=3, base_filter=64,  feat = 256, num_stages=7, scale_factor=upscale_factor) ###D-DBPN"
   ]
  },
  {
   "cell_type": "code",
   "execution_count": 6,
   "metadata": {},
   "outputs": [],
   "source": [
    "if cuda:\n",
    "    model = torch.nn.DataParallel(model, device_ids=gpus_list)"
   ]
  },
  {
   "cell_type": "markdown",
   "metadata": {},
   "source": [
    "## Load the Model Parameters from Pretrained Model"
   ]
  },
  {
   "cell_type": "code",
   "execution_count": 7,
   "metadata": {},
   "outputs": [
    {
     "name": "stdout",
     "output_type": "stream",
     "text": [
      "Pre-trained SR model is loaded.\n"
     ]
    }
   ],
   "source": [
    "if os.path.exists(model_path):\n",
    "    model.load_state_dict(torch.load(model_path, map_location=lambda storage, loc: storage))\n",
    "    print('Pre-trained SR model is loaded.')"
   ]
  },
  {
   "cell_type": "code",
   "execution_count": 8,
   "metadata": {},
   "outputs": [
    {
     "data": {
      "text/plain": [
       "DataParallel(\n",
       "  (module): DBPN_Net(\n",
       "    (feat0): ConvBlock(\n",
       "      (conv): Conv2d(3, 256, kernel_size=(3, 3), stride=(1, 1), padding=(1, 1))\n",
       "      (act): PReLU(num_parameters=1)\n",
       "    )\n",
       "    (feat1): ConvBlock(\n",
       "      (conv): Conv2d(256, 64, kernel_size=(1, 1), stride=(1, 1))\n",
       "      (act): PReLU(num_parameters=1)\n",
       "    )\n",
       "    (up1): UpBlock(\n",
       "      (up_conv1): DeconvBlock(\n",
       "        (deconv): ConvTranspose2d(64, 64, kernel_size=(12, 12), stride=(8, 8), padding=(2, 2))\n",
       "        (act): PReLU(num_parameters=1)\n",
       "      )\n",
       "      (up_conv2): ConvBlock(\n",
       "        (conv): Conv2d(64, 64, kernel_size=(12, 12), stride=(8, 8), padding=(2, 2))\n",
       "        (act): PReLU(num_parameters=1)\n",
       "      )\n",
       "      (up_conv3): DeconvBlock(\n",
       "        (deconv): ConvTranspose2d(64, 64, kernel_size=(12, 12), stride=(8, 8), padding=(2, 2))\n",
       "        (act): PReLU(num_parameters=1)\n",
       "      )\n",
       "    )\n",
       "    (down1): DownBlock(\n",
       "      (down_conv1): ConvBlock(\n",
       "        (conv): Conv2d(64, 64, kernel_size=(12, 12), stride=(8, 8), padding=(2, 2))\n",
       "        (act): PReLU(num_parameters=1)\n",
       "      )\n",
       "      (down_conv2): DeconvBlock(\n",
       "        (deconv): ConvTranspose2d(64, 64, kernel_size=(12, 12), stride=(8, 8), padding=(2, 2))\n",
       "        (act): PReLU(num_parameters=1)\n",
       "      )\n",
       "      (down_conv3): ConvBlock(\n",
       "        (conv): Conv2d(64, 64, kernel_size=(12, 12), stride=(8, 8), padding=(2, 2))\n",
       "        (act): PReLU(num_parameters=1)\n",
       "      )\n",
       "    )\n",
       "    (up2): UpBlock(\n",
       "      (up_conv1): DeconvBlock(\n",
       "        (deconv): ConvTranspose2d(64, 64, kernel_size=(12, 12), stride=(8, 8), padding=(2, 2))\n",
       "        (act): PReLU(num_parameters=1)\n",
       "      )\n",
       "      (up_conv2): ConvBlock(\n",
       "        (conv): Conv2d(64, 64, kernel_size=(12, 12), stride=(8, 8), padding=(2, 2))\n",
       "        (act): PReLU(num_parameters=1)\n",
       "      )\n",
       "      (up_conv3): DeconvBlock(\n",
       "        (deconv): ConvTranspose2d(64, 64, kernel_size=(12, 12), stride=(8, 8), padding=(2, 2))\n",
       "        (act): PReLU(num_parameters=1)\n",
       "      )\n",
       "    )\n",
       "    (down2): D_DownBlock(\n",
       "      (conv): ConvBlock(\n",
       "        (conv): Conv2d(128, 64, kernel_size=(1, 1), stride=(1, 1))\n",
       "        (act): PReLU(num_parameters=1)\n",
       "      )\n",
       "      (down_conv1): ConvBlock(\n",
       "        (conv): Conv2d(64, 64, kernel_size=(12, 12), stride=(8, 8), padding=(2, 2))\n",
       "        (act): PReLU(num_parameters=1)\n",
       "      )\n",
       "      (down_conv2): DeconvBlock(\n",
       "        (deconv): ConvTranspose2d(64, 64, kernel_size=(12, 12), stride=(8, 8), padding=(2, 2))\n",
       "        (act): PReLU(num_parameters=1)\n",
       "      )\n",
       "      (down_conv3): ConvBlock(\n",
       "        (conv): Conv2d(64, 64, kernel_size=(12, 12), stride=(8, 8), padding=(2, 2))\n",
       "        (act): PReLU(num_parameters=1)\n",
       "      )\n",
       "    )\n",
       "    (up3): D_UpBlock(\n",
       "      (conv): ConvBlock(\n",
       "        (conv): Conv2d(128, 64, kernel_size=(1, 1), stride=(1, 1))\n",
       "        (act): PReLU(num_parameters=1)\n",
       "      )\n",
       "      (up_conv1): DeconvBlock(\n",
       "        (deconv): ConvTranspose2d(64, 64, kernel_size=(12, 12), stride=(8, 8), padding=(2, 2))\n",
       "        (act): PReLU(num_parameters=1)\n",
       "      )\n",
       "      (up_conv2): ConvBlock(\n",
       "        (conv): Conv2d(64, 64, kernel_size=(12, 12), stride=(8, 8), padding=(2, 2))\n",
       "        (act): PReLU(num_parameters=1)\n",
       "      )\n",
       "      (up_conv3): DeconvBlock(\n",
       "        (deconv): ConvTranspose2d(64, 64, kernel_size=(12, 12), stride=(8, 8), padding=(2, 2))\n",
       "        (act): PReLU(num_parameters=1)\n",
       "      )\n",
       "    )\n",
       "    (down3): D_DownBlock(\n",
       "      (conv): ConvBlock(\n",
       "        (conv): Conv2d(192, 64, kernel_size=(1, 1), stride=(1, 1))\n",
       "        (act): PReLU(num_parameters=1)\n",
       "      )\n",
       "      (down_conv1): ConvBlock(\n",
       "        (conv): Conv2d(64, 64, kernel_size=(12, 12), stride=(8, 8), padding=(2, 2))\n",
       "        (act): PReLU(num_parameters=1)\n",
       "      )\n",
       "      (down_conv2): DeconvBlock(\n",
       "        (deconv): ConvTranspose2d(64, 64, kernel_size=(12, 12), stride=(8, 8), padding=(2, 2))\n",
       "        (act): PReLU(num_parameters=1)\n",
       "      )\n",
       "      (down_conv3): ConvBlock(\n",
       "        (conv): Conv2d(64, 64, kernel_size=(12, 12), stride=(8, 8), padding=(2, 2))\n",
       "        (act): PReLU(num_parameters=1)\n",
       "      )\n",
       "    )\n",
       "    (up4): D_UpBlock(\n",
       "      (conv): ConvBlock(\n",
       "        (conv): Conv2d(192, 64, kernel_size=(1, 1), stride=(1, 1))\n",
       "        (act): PReLU(num_parameters=1)\n",
       "      )\n",
       "      (up_conv1): DeconvBlock(\n",
       "        (deconv): ConvTranspose2d(64, 64, kernel_size=(12, 12), stride=(8, 8), padding=(2, 2))\n",
       "        (act): PReLU(num_parameters=1)\n",
       "      )\n",
       "      (up_conv2): ConvBlock(\n",
       "        (conv): Conv2d(64, 64, kernel_size=(12, 12), stride=(8, 8), padding=(2, 2))\n",
       "        (act): PReLU(num_parameters=1)\n",
       "      )\n",
       "      (up_conv3): DeconvBlock(\n",
       "        (deconv): ConvTranspose2d(64, 64, kernel_size=(12, 12), stride=(8, 8), padding=(2, 2))\n",
       "        (act): PReLU(num_parameters=1)\n",
       "      )\n",
       "    )\n",
       "    (down4): D_DownBlock(\n",
       "      (conv): ConvBlock(\n",
       "        (conv): Conv2d(256, 64, kernel_size=(1, 1), stride=(1, 1))\n",
       "        (act): PReLU(num_parameters=1)\n",
       "      )\n",
       "      (down_conv1): ConvBlock(\n",
       "        (conv): Conv2d(64, 64, kernel_size=(12, 12), stride=(8, 8), padding=(2, 2))\n",
       "        (act): PReLU(num_parameters=1)\n",
       "      )\n",
       "      (down_conv2): DeconvBlock(\n",
       "        (deconv): ConvTranspose2d(64, 64, kernel_size=(12, 12), stride=(8, 8), padding=(2, 2))\n",
       "        (act): PReLU(num_parameters=1)\n",
       "      )\n",
       "      (down_conv3): ConvBlock(\n",
       "        (conv): Conv2d(64, 64, kernel_size=(12, 12), stride=(8, 8), padding=(2, 2))\n",
       "        (act): PReLU(num_parameters=1)\n",
       "      )\n",
       "    )\n",
       "    (up5): D_UpBlock(\n",
       "      (conv): ConvBlock(\n",
       "        (conv): Conv2d(256, 64, kernel_size=(1, 1), stride=(1, 1))\n",
       "        (act): PReLU(num_parameters=1)\n",
       "      )\n",
       "      (up_conv1): DeconvBlock(\n",
       "        (deconv): ConvTranspose2d(64, 64, kernel_size=(12, 12), stride=(8, 8), padding=(2, 2))\n",
       "        (act): PReLU(num_parameters=1)\n",
       "      )\n",
       "      (up_conv2): ConvBlock(\n",
       "        (conv): Conv2d(64, 64, kernel_size=(12, 12), stride=(8, 8), padding=(2, 2))\n",
       "        (act): PReLU(num_parameters=1)\n",
       "      )\n",
       "      (up_conv3): DeconvBlock(\n",
       "        (deconv): ConvTranspose2d(64, 64, kernel_size=(12, 12), stride=(8, 8), padding=(2, 2))\n",
       "        (act): PReLU(num_parameters=1)\n",
       "      )\n",
       "    )\n",
       "    (down5): D_DownBlock(\n",
       "      (conv): ConvBlock(\n",
       "        (conv): Conv2d(320, 64, kernel_size=(1, 1), stride=(1, 1))\n",
       "        (act): PReLU(num_parameters=1)\n",
       "      )\n",
       "      (down_conv1): ConvBlock(\n",
       "        (conv): Conv2d(64, 64, kernel_size=(12, 12), stride=(8, 8), padding=(2, 2))\n",
       "        (act): PReLU(num_parameters=1)\n",
       "      )\n",
       "      (down_conv2): DeconvBlock(\n",
       "        (deconv): ConvTranspose2d(64, 64, kernel_size=(12, 12), stride=(8, 8), padding=(2, 2))\n",
       "        (act): PReLU(num_parameters=1)\n",
       "      )\n",
       "      (down_conv3): ConvBlock(\n",
       "        (conv): Conv2d(64, 64, kernel_size=(12, 12), stride=(8, 8), padding=(2, 2))\n",
       "        (act): PReLU(num_parameters=1)\n",
       "      )\n",
       "    )\n",
       "    (up6): D_UpBlock(\n",
       "      (conv): ConvBlock(\n",
       "        (conv): Conv2d(320, 64, kernel_size=(1, 1), stride=(1, 1))\n",
       "        (act): PReLU(num_parameters=1)\n",
       "      )\n",
       "      (up_conv1): DeconvBlock(\n",
       "        (deconv): ConvTranspose2d(64, 64, kernel_size=(12, 12), stride=(8, 8), padding=(2, 2))\n",
       "        (act): PReLU(num_parameters=1)\n",
       "      )\n",
       "      (up_conv2): ConvBlock(\n",
       "        (conv): Conv2d(64, 64, kernel_size=(12, 12), stride=(8, 8), padding=(2, 2))\n",
       "        (act): PReLU(num_parameters=1)\n",
       "      )\n",
       "      (up_conv3): DeconvBlock(\n",
       "        (deconv): ConvTranspose2d(64, 64, kernel_size=(12, 12), stride=(8, 8), padding=(2, 2))\n",
       "        (act): PReLU(num_parameters=1)\n",
       "      )\n",
       "    )\n",
       "    (down6): D_DownBlock(\n",
       "      (conv): ConvBlock(\n",
       "        (conv): Conv2d(384, 64, kernel_size=(1, 1), stride=(1, 1))\n",
       "        (act): PReLU(num_parameters=1)\n",
       "      )\n",
       "      (down_conv1): ConvBlock(\n",
       "        (conv): Conv2d(64, 64, kernel_size=(12, 12), stride=(8, 8), padding=(2, 2))\n",
       "        (act): PReLU(num_parameters=1)\n",
       "      )\n",
       "      (down_conv2): DeconvBlock(\n",
       "        (deconv): ConvTranspose2d(64, 64, kernel_size=(12, 12), stride=(8, 8), padding=(2, 2))\n",
       "        (act): PReLU(num_parameters=1)\n",
       "      )\n",
       "      (down_conv3): ConvBlock(\n",
       "        (conv): Conv2d(64, 64, kernel_size=(12, 12), stride=(8, 8), padding=(2, 2))\n",
       "        (act): PReLU(num_parameters=1)\n",
       "      )\n",
       "    )\n",
       "    (up7): D_UpBlock(\n",
       "      (conv): ConvBlock(\n",
       "        (conv): Conv2d(384, 64, kernel_size=(1, 1), stride=(1, 1))\n",
       "        (act): PReLU(num_parameters=1)\n",
       "      )\n",
       "      (up_conv1): DeconvBlock(\n",
       "        (deconv): ConvTranspose2d(64, 64, kernel_size=(12, 12), stride=(8, 8), padding=(2, 2))\n",
       "        (act): PReLU(num_parameters=1)\n",
       "      )\n",
       "      (up_conv2): ConvBlock(\n",
       "        (conv): Conv2d(64, 64, kernel_size=(12, 12), stride=(8, 8), padding=(2, 2))\n",
       "        (act): PReLU(num_parameters=1)\n",
       "      )\n",
       "      (up_conv3): DeconvBlock(\n",
       "        (deconv): ConvTranspose2d(64, 64, kernel_size=(12, 12), stride=(8, 8), padding=(2, 2))\n",
       "        (act): PReLU(num_parameters=1)\n",
       "      )\n",
       "    )\n",
       "    (output_conv): ConvBlock(\n",
       "      (conv): Conv2d(448, 3, kernel_size=(3, 3), stride=(1, 1), padding=(1, 1))\n",
       "    )\n",
       "  )\n",
       ")"
      ]
     },
     "execution_count": 8,
     "metadata": {},
     "output_type": "execute_result"
    }
   ],
   "source": [
    "if cuda:\n",
    "    model = model.cuda(gpus_list[0])\n",
    "model.eval()"
   ]
  },
  {
   "cell_type": "markdown",
   "metadata": {},
   "source": [
    "## Load the Image"
   ]
  },
  {
   "cell_type": "code",
   "execution_count": 9,
   "metadata": {},
   "outputs": [],
   "source": [
    "transform = transforms.Compose([\n",
    "    transforms.ToTensor()\n",
    "    #transforms.Normalize((0.5, 0.5, 0.5), (0.5, 0.5, 0.5))\n",
    "])\n",
    "\n",
    "trainset = torchvision.datasets.CIFAR100(root='/datasets/ee285s-public/', train=True,\n",
    "                                        download=False, transform=transform)\n",
    "trainloader = torch.utils.data.DataLoader(trainset, batch_size=1,\n",
    "                                          shuffle=False, num_workers=1)\n",
    "#print(len(trainloader[0]))\n",
    "#for batch in trainloader:\n",
    "dataiter = iter(trainloader)\n",
    " #   inp, name = Variable(batch[0],volatile=True), batch[1]\n",
    "  #  print(type(inp),len(name))\n",
    "image_t, label = dataiter.next()\n",
    "image_t, label = dataiter.next()"
   ]
  },
  {
   "cell_type": "markdown",
   "metadata": {},
   "source": [
    "### Define a Function to View any Image (in the form of a `Tensor`)"
   ]
  },
  {
   "cell_type": "code",
   "execution_count": 10,
   "metadata": {},
   "outputs": [],
   "source": [
    "def imshow(img): # img is a PyTorch Tensor\n",
    "    #img = img / 2 + 0.5     # unnormalize\n",
    "    \n",
    "    # Convert from Torch Tensor to numpy array\n",
    "    # Squeeze removes the first dimension, which is batch size. Here, it is always 1\n",
    "    npimg = img.numpy().squeeze()\n",
    "    \n",
    "    plt.imshow(np.transpose(npimg, (1, 2, 0))) # Transpose is to convert from BGR to RGB"
   ]
  },
  {
   "cell_type": "code",
   "execution_count": 11,
   "metadata": {},
   "outputs": [
    {
     "data": {
      "image/png": "[encoded data removed]",
      "text/plain": [
       "<Figure size 432x288 with 1 Axes>"
      ]
     },
     "metadata": {},
     "output_type": "display_data"
    }
   ],
   "source": [
    "imshow(image_t)"
   ]
  },
  {
   "cell_type": "code",
   "execution_count": 12,
   "metadata": {},
   "outputs": [],
   "source": [
    "inp = Variable(image_t, volatile=True)\n",
    "if cuda:\n",
    "    inp = inp.cuda(gpus_list[0])\n",
    "prediction = model(inp)"
   ]
  },
  {
   "cell_type": "code",
   "execution_count": 13,
   "metadata": {},
   "outputs": [],
   "source": [
    "out = prediction.cpu().data"
   ]
  },
  {
   "cell_type": "code",
   "execution_count": 14,
   "metadata": {},
   "outputs": [
    {
     "data": {
      "image/png": "[encoded data removed]",
      "text/plain": [
       "<Figure size 432x288 with 1 Axes>"
      ]
     },
     "metadata": {},
     "output_type": "display_data"
    }
   ],
   "source": [
    "imshow(out)"
   ]
  }
 ],
 "metadata": {
  "kernelspec": {
   "display_name": "Python 2",
   "language": "python",
   "name": "python2"
  },
  "language_info": {
   "codemirror_mode": {
    "name": "ipython",
    "version": 2
   },
   "file_extension": ".py",
   "mimetype": "text/x-python",
   "name": "python",
   "nbconvert_exporter": "python",
   "pygments_lexer": "ipython2",
   "version": "2.7.14"
  }
 },
 "nbformat": 4,
 "nbformat_minor": 2
}
